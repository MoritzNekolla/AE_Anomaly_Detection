{
 "cells": [
  {
   "cell_type": "code",
   "execution_count": 1,
   "id": "9c08bbd0",
   "metadata": {},
   "outputs": [],
   "source": [
    "import matplotlib.pyplot as plt\n",
    "import numpy as np\n",
    "import os\n",
    "import math\n",
    "import random\n",
    "import cv2\n",
    "import sys\n",
    "import time\n",
    "sys.path.insert(0, 'py_scripts/')\n",
    "\n",
    "import torch\n",
    "from Image_Sampler import Sampler\n",
    "from env_carla import Environment\n",
    "from model_eval import Evaluater\n",
    "from AE_model import AutoEncoder\n",
    "from ScenarioPlanner import ScenarioPlanner\n",
    "from scenario_env import ScenarioEnvironment"
   ]
  },
  {
   "cell_type": "code",
   "execution_count": null,
   "id": "de74798d",
   "metadata": {},
   "outputs": [],
   "source": [
    "a = {\"1\", \"2\"}\n",
    "\n"
   ]
  },
  {
   "cell_type": "markdown",
   "id": "3eb2a0fb",
   "metadata": {},
   "source": [
    "# Sampling Section"
   ]
  },
  {
   "cell_type": "code",
   "execution_count": 2,
   "id": "63c8a9dc",
   "metadata": {},
   "outputs": [
    {
     "name": "stdout",
     "output_type": "stream",
     "text": [
      "~~~~~~~~~~~~~~\n",
      "# Collecting 10 scenarios among world: Town01_Opt \n",
      "~~~~~~~~~~~~~~\n"
     ]
    },
    {
     "ename": "FileNotFoundError",
     "evalue": "[Errno 2] No such file or directory: 'anomaly_list.json'",
     "output_type": "error",
     "traceback": [
      "\u001b[0;31m---------------------------------------------------------------------------\u001b[0m",
      "\u001b[0;31mFileNotFoundError\u001b[0m                         Traceback (most recent call last)",
      "\u001b[1;32m/fzi/ids/is789/workspace/Anomaly/Image_sampling.ipynb Cell 4\u001b[0m in \u001b[0;36m<cell line: 2>\u001b[0;34m()\u001b[0m\n\u001b[1;32m      <a href='vscode-notebook-cell://ssh-remote%2Btks-hertz.fzi.de/fzi/ids/is789/workspace/Anomaly/Image_sampling.ipynb#W4sdnNjb2RlLXJlbW90ZQ%3D%3D?line=0'>1</a>\u001b[0m planner \u001b[39m=\u001b[39m ScenarioPlanner(s_width\u001b[39m=\u001b[39m\u001b[39m2048\u001b[39m, s_height\u001b[39m=\u001b[39m\u001b[39m2048\u001b[39m, cam_height\u001b[39m=\u001b[39m\u001b[39m20.5\u001b[39m, cam_zoom\u001b[39m=\u001b[39m\u001b[39m130\u001b[39m, cam_rotation\u001b[39m=\u001b[39m\u001b[39m-\u001b[39m\u001b[39m70\u001b[39m, cam_x_offset\u001b[39m=\u001b[39m\u001b[39m18.\u001b[39m)\n\u001b[0;32m----> <a href='vscode-notebook-cell://ssh-remote%2Btks-hertz.fzi.de/fzi/ids/is789/workspace/Anomaly/Image_sampling.ipynb#W4sdnNjb2RlLXJlbW90ZQ%3D%3D?line=1'>2</a>\u001b[0m planner\u001b[39m.\u001b[39;49msampleScenariosSet(\u001b[39m10\u001b[39;49m)\n",
      "File \u001b[0;32m/disk/users/is789/workspace/Anomaly/py_scripts/ScenarioPlanner.py:148\u001b[0m, in \u001b[0;36mScenarioPlanner.sampleScenariosSet\u001b[0;34m(self, amount)\u001b[0m\n\u001b[1;32m    145\u001b[0m storagePath \u001b[39m=\u001b[39m \u001b[39mself\u001b[39m\u001b[39m.\u001b[39mcreate_Storage()\n\u001b[1;32m    146\u001b[0m \u001b[39m# storagePath = ROOT_STORAGE_PATH\u001b[39;00m\n\u001b[0;32m--> 148\u001b[0m env \u001b[39m=\u001b[39m Environment(world\u001b[39m=\u001b[39;49m\u001b[39mself\u001b[39;49m\u001b[39m.\u001b[39;49mworld, port\u001b[39m=\u001b[39;49m\u001b[39m2200\u001b[39;49m, s_width\u001b[39m=\u001b[39;49m\u001b[39mself\u001b[39;49m\u001b[39m.\u001b[39;49ms_width, s_height\u001b[39m=\u001b[39;49m\u001b[39mself\u001b[39;49m\u001b[39m.\u001b[39;49ms_height, cam_height\u001b[39m=\u001b[39;49m\u001b[39mself\u001b[39;49m\u001b[39m.\u001b[39;49mcam_height, cam_rotation\u001b[39m=\u001b[39;49m\u001b[39mself\u001b[39;49m\u001b[39m.\u001b[39;49mcam_rotation,\n\u001b[1;32m    149\u001b[0m                     cam_zoom\u001b[39m=\u001b[39;49m\u001b[39mself\u001b[39;49m\u001b[39m.\u001b[39;49mcam_zoom, cam_x_offset\u001b[39m=\u001b[39;49m\u001b[39mself\u001b[39;49m\u001b[39m.\u001b[39;49mcam_x_offset, host\u001b[39m=\u001b[39;49m\u001b[39mself\u001b[39;49m\u001b[39m.\u001b[39;49mhost, random_spawn\u001b[39m=\u001b[39;49m\u001b[39mTrue\u001b[39;49;00m)\n\u001b[1;32m    150\u001b[0m env\u001b[39m.\u001b[39minit_ego()\n\u001b[1;32m    152\u001b[0m \u001b[39mfor\u001b[39;00m x \u001b[39min\u001b[39;00m \u001b[39mrange\u001b[39m(\u001b[39m0\u001b[39m,amount):\n\u001b[1;32m    153\u001b[0m \n\u001b[1;32m    154\u001b[0m     \u001b[39m# add to dict\u001b[39;00m\n",
      "File \u001b[0;32m/disk/users/is789/workspace/Anomaly/py_scripts/env_carla_synch.py:106\u001b[0m, in \u001b[0;36mEnvironment.__init__\u001b[0;34m(self, world, host, port, s_width, s_height, cam_height, cam_rotation, cam_zoom, random_spawn, cam_x_offset)\u001b[0m\n\u001b[1;32m    103\u001b[0m \u001b[39mself\u001b[39m\u001b[39m.\u001b[39mworld\u001b[39m.\u001b[39mset_weather(\u001b[39mself\u001b[39m\u001b[39m.\u001b[39mweather)\n\u001b[1;32m    104\u001b[0m \u001b[39mself\u001b[39m\u001b[39m.\u001b[39mvehicle \u001b[39m=\u001b[39m \u001b[39mNone\u001b[39;00m \u001b[39m# important\u001b[39;00m\n\u001b[0;32m--> 106\u001b[0m \u001b[39mself\u001b[39m\u001b[39m.\u001b[39mvalid_anomalys \u001b[39m=\u001b[39m \u001b[39mself\u001b[39;49m\u001b[39m.\u001b[39;49mset_valid_anomalys()\n\u001b[1;32m    108\u001b[0m w_settings \u001b[39m=\u001b[39m \u001b[39mself\u001b[39m\u001b[39m.\u001b[39mworld\u001b[39m.\u001b[39mget_settings()\n\u001b[1;32m    109\u001b[0m w_settings\u001b[39m.\u001b[39msynchronous_mode \u001b[39m=\u001b[39m \u001b[39mTrue\u001b[39;00m\n",
      "File \u001b[0;32m/disk/users/is789/workspace/Anomaly/py_scripts/env_carla_synch.py:327\u001b[0m, in \u001b[0;36mEnvironment.set_valid_anomalys\u001b[0;34m(self)\u001b[0m\n\u001b[1;32m    326\u001b[0m \u001b[39mdef\u001b[39;00m \u001b[39mset_valid_anomalys\u001b[39m(\u001b[39mself\u001b[39m):\n\u001b[0;32m--> 327\u001b[0m     \u001b[39mwith\u001b[39;00m \u001b[39mopen\u001b[39;49m(\u001b[39m'\u001b[39;49m\u001b[39manomaly_list.json\u001b[39;49m\u001b[39m'\u001b[39;49m) \u001b[39mas\u001b[39;00m json_file:\n\u001b[1;32m    328\u001b[0m         anomaly_list \u001b[39m=\u001b[39m json\u001b[39m.\u001b[39mload(json_file)\n\u001b[1;32m    330\u001b[0m     bp_list \u001b[39m=\u001b[39m []\n",
      "\u001b[0;31mFileNotFoundError\u001b[0m: [Errno 2] No such file or directory: 'anomaly_list.json'"
     ]
    }
   ],
   "source": [
    "planner = ScenarioPlanner(s_width=2048, s_height=2048, cam_height=20.5, cam_zoom=130, cam_rotation=-70, cam_x_offset=18.)\n",
    "planner.sampleScenariosSet(10)\n"
   ]
  },
  {
   "cell_type": "code",
   "execution_count": null,
   "id": "87a1c466",
   "metadata": {},
   "outputs": [],
   "source": [
    "# sampler = Sampler(s_width=100, s_height=100, cam_height=4, cam_zoom=50, cam_rotation=-18)\n",
    "sampler = Sampler(s_width=256, s_height=256, cam_height=4.5, cam_zoom=130, cam_rotation=-90) #top-down\n",
    "# sampler = Sampler(s_width=2048, s_height=2048, cam_height=20.5, cam_zoom=130, cam_rotation=-70, cam_x_offset=18.) #top-down\n",
    "sampler.show_Example()"
   ]
  },
  {
   "cell_type": "code",
   "execution_count": null,
   "id": "7d7d483f",
   "metadata": {},
   "outputs": [],
   "source": [
    "ScenarioPlanner.create_final_json(\"/disk/vanishing_data/is789/scenario_samples/Set_2023-02-07_16:36/\")"
   ]
  },
  {
   "cell_type": "markdown",
   "id": "4b436a6a",
   "metadata": {},
   "source": []
  },
  {
   "cell_type": "code",
   "execution_count": null,
   "id": "9af0fdf4",
   "metadata": {},
   "outputs": [],
   "source": [
    "ScenarioPlanner.create_snap_video(storagePath=\"/disk/vanishing_data/is789/scenario_samples/Set_2023-02-07_16:36/\", max_scenes=10)"
   ]
  },
  {
   "cell_type": "code",
   "execution_count": null,
   "id": "e9cef222",
   "metadata": {},
   "outputs": [],
   "source": [
    "ScenarioPlanner.createComparison(\"/disk/vanishing_data/is789/scenario_samples/Set_2022-12-14_00:59/\")"
   ]
  },
  {
   "cell_type": "code",
   "execution_count": null,
   "id": "9e6cf2e2",
   "metadata": {},
   "outputs": [],
   "source": [
    "img1 = cv2.imread(\"/disk/vanishing_data/is789/scenario_samples/Set_2023-02-07_16:36/snapshots/snap_7013.png\")\n",
    "plt.imshow(img1)"
   ]
  },
  {
   "cell_type": "code",
   "execution_count": null,
   "id": "07a1b3ca",
   "metadata": {},
   "outputs": [],
   "source": [
    "x = [1,2,3]\n",
    "\n",
    "y = x[1]\n",
    "y += 5\n",
    "\n",
    "x"
   ]
  },
  {
   "cell_type": "code",
   "execution_count": null,
   "id": "af95cddb",
   "metadata": {},
   "outputs": [],
   "source": [
    "img, _ = sampler.sample(random_spawn=True)\n",
    "plt.imshow(img)\n",
    "\n",
    "# img = (img * 255).astype(\"int\")\n",
    "# cv2.imwrite(\"anomayl_samples/11.png\",img) "
   ]
  },
  {
   "cell_type": "code",
   "execution_count": null,
   "id": "ad753f5c",
   "metadata": {},
   "outputs": [],
   "source": [
    "from PIL import Image\n",
    "k = (img * 255).astype(np.uint8)\n",
    "im = Image.fromarray(k, \"RGB\")\n",
    "im.save(\"your_file.jpeg\")"
   ]
  },
  {
   "cell_type": "code",
   "execution_count": null,
   "id": "954fb160",
   "metadata": {},
   "outputs": [],
   "source": [
    "img.shape"
   ]
  },
  {
   "cell_type": "code",
   "execution_count": null,
   "id": "698e96d8",
   "metadata": {},
   "outputs": [],
   "source": [
    "# test = cv2.imread(\"anomayl_samples/1.png\")\n",
    "# plt.imshow(test)"
   ]
  },
  {
   "cell_type": "code",
   "execution_count": null,
   "id": "467262c7",
   "metadata": {},
   "outputs": [],
   "source": [
    "device = torch.device(\"cuda\" if torch.cuda.is_available() else \"cpu\")\n",
    "ae_model = AutoEncoder()\n",
    "path = \"py_scripts/model.pt\"\n",
    "ae_model.to(device)\n",
    "ae_model.load_state_dict(torch.load(path))\n",
    "eval = Evaluater(ae_model, device)"
   ]
  },
  {
   "cell_type": "code",
   "execution_count": null,
   "id": "621a162c",
   "metadata": {},
   "outputs": [],
   "source": [
    "images = Sampler.load_Images(\"anomayl_samples/\").astype(\"float32\") / 255"
   ]
  },
  {
   "cell_type": "code",
   "execution_count": null,
   "id": "126e4644",
   "metadata": {
    "scrolled": false
   },
   "outputs": [],
   "source": [
    "fig, axe = plt.subplots(len(images), 4, figsize=(12, len(images)*4), dpi=100)\n",
    "for x in range(len(images)):\n",
    "    img = images[x]\n",
    "    gt, out = eval.predict(img)\n",
    "    hm = eval.getHeatMap(img)\n",
    "    dt = eval.getColoredDetectionMap(img)\n",
    "    # gt = (gt).astype(\"uint8\")\n",
    "    # out = (out).astype(\"uint8\")\n",
    "    # dt = (dt).astype(\"uint8\")\n",
    "\n",
    "\n",
    "    axe[x,0].imshow(gt)\n",
    "    axe[x,0].axis('off')\n",
    "    axe[x,1].imshow(out)\n",
    "    axe[x,1].axis('off')    \n",
    "    axe[x,2].imshow(hm)\n",
    "    axe[x,2].axis('off')\n",
    "    axe[x,3].imshow(dt)\n",
    "    axe[x,3].axis('off')\n",
    "\n",
    "# plt.tight_layout()\n",
    "plt.show()\n",
    "# plt.axes(\"off\")"
   ]
  },
  {
   "cell_type": "code",
   "execution_count": null,
   "id": "ef33e295",
   "metadata": {},
   "outputs": [],
   "source": [
    "def introPic(images):\n",
    "    final_img = []\n",
    "    seperator = np.zeros((256, 2, 3))\n",
    "    # seperator[:,:,0] = 1.\n",
    "    seperatorH = np.zeros((2, 772, 3))\n",
    "    # seperatorH[:,:,0] = 1.\n",
    "    for x in range(len(images)):\n",
    "        img = images[x]\n",
    "        plt.imsave(f\"paper_plots/input{x}.png\", img)\n",
    "        gt, out = eval.predict(img)\n",
    "        plt.imsave(f\"paper_plots/output{x}.png\", out)\n",
    "        hm = eval.getHeatMap(img)\n",
    "        plt.imsave(f\"paper_plots/heatmap{x}.png\", hm)\n",
    "        dt = eval.getColoredDetectionMap(img)\n",
    "        plt.imsave(f\"paper_plots/anomaly_map{x}.png\", dt)\n",
    "\n",
    "        fusion = np.hstack((img, seperator, out, seperator,  hm))\n",
    "        final_img.append(fusion)\n",
    "        print(fusion.shape)\n",
    "        plt.imsave(\"paper_plots/introPic.png\", fusion)\n",
    "        plt.imshow(fusion)\n",
    "        plt.show()\n",
    "    \n",
    "    combImg = final_img[0]\n",
    "    for x in range(1,len(final_img)):\n",
    "        combImg = np.vstack((combImg, seperatorH, final_img[x]))\n",
    "    plt.imsave(\"paper_plots/combPic.png\", combImg)\n",
    "    plt.imshow(combImg)\n",
    "\n",
    "\n",
    "introPic([images[3], images[4]])"
   ]
  },
  {
   "cell_type": "code",
   "execution_count": null,
   "id": "5e79f666",
   "metadata": {},
   "outputs": [],
   "source": [
    "def is_outlier(points, thresh=3.5):\n",
    "    \"\"\"\n",
    "    Returns a boolean array with True if points are outliers and False \n",
    "    otherwise.\n",
    "\n",
    "    Parameters:\n",
    "    -----------\n",
    "        points : An numobservations by numdimensions array of observations\n",
    "        thresh : The modified z-score to use as a threshold. Observations with\n",
    "            a modified z-score (based on the median absolute deviation) greater\n",
    "            than this value will be classified as outliers.\n",
    "\n",
    "    Returns:\n",
    "    --------\n",
    "        mask : A numobservations-length boolean array.\n",
    "\n",
    "    References:\n",
    "    ----------\n",
    "        Boris Iglewicz and David Hoaglin (1993), \"Volume 16: How to Detect and\n",
    "        Handle Outliers\", The ASQC Basic References in Quality Control:\n",
    "        Statistical Techniques, Edward F. Mykytka, Ph.D., Editor. \n",
    "    \"\"\"\n",
    "    if len(points.shape) == 1:\n",
    "        points = points[:,None]\n",
    "    median = np.median(points, axis=0)\n",
    "    diff = np.sum((points - median)**2, axis=-1)\n",
    "    diff = np.sqrt(diff)\n",
    "    med_abs_deviation = np.median(diff)\n",
    "\n",
    "    modified_z_score = 0.6745 * diff / med_abs_deviation\n",
    "\n",
    "    k = modified_z_score > thresh\n",
    "    p = np.zeros((len(points)))\n",
    "    for x in range(len(p)):\n",
    "        if k[x] == True:\n",
    "            p[x] = 1.0\n",
    "    return p"
   ]
  },
  {
   "cell_type": "code",
   "execution_count": null,
   "id": "6c62fdb8",
   "metadata": {},
   "outputs": [],
   "source": [
    "from sklearn.cluster import KMeans\n",
    "\n",
    "y = np.array([1, 2, 3, 3, 2, 25, 24, 22, 88, 50])#.reshape(-1, 1)\n",
    "# kmeans = KMeans(n_clusters=2)\n",
    "# a = kmeans.fit(y)"
   ]
  },
  {
   "cell_type": "code",
   "execution_count": null,
   "id": "d4582433",
   "metadata": {},
   "outputs": [],
   "source": [
    "is_outlier(y)"
   ]
  },
  {
   "cell_type": "code",
   "execution_count": null,
   "id": "2b8060af",
   "metadata": {},
   "outputs": [],
   "source": [
    "z = a.labels_ * -1 + 1\n",
    "z"
   ]
  },
  {
   "cell_type": "code",
   "execution_count": null,
   "id": "bd1d45de",
   "metadata": {},
   "outputs": [],
   "source": [
    "a.cluster_centers_[1][0]"
   ]
  },
  {
   "cell_type": "code",
   "execution_count": null,
   "id": "743f9cbb",
   "metadata": {},
   "outputs": [],
   "source": [
    "imgs, _ = sampler.sample_Ride(num_of_snaps=41)\n",
    "\n",
    "for x in range(0,40):\n",
    "    plt.imshow(imgs[x])\n",
    "    plt.show()"
   ]
  },
  {
   "cell_type": "code",
   "execution_count": null,
   "id": "a6958d44",
   "metadata": {},
   "outputs": [],
   "source": [
    "# sampler = Sampler(s_width=256, s_height=256, cam_height=4, cam_zoom=50, cam_rotation=-12)\n",
    "sampler = Sampler(s_width=256, s_height=256, cam_height=4.5, cam_zoom=130, cam_rotation=-90)"
   ]
  },
  {
   "cell_type": "code",
   "execution_count": null,
   "id": "4f51ae25",
   "metadata": {},
   "outputs": [],
   "source": [
    "waypoints, wp, sl = sampler.get_waypoints()"
   ]
  },
  {
   "cell_type": "code",
   "execution_count": null,
   "id": "94433cc9",
   "metadata": {},
   "outputs": [],
   "source": [
    "wp.lane_id"
   ]
  },
  {
   "cell_type": "code",
   "execution_count": null,
   "id": "b1cd734a",
   "metadata": {},
   "outputs": [],
   "source": [
    "pp = []\n",
    "for xx in waypoints:\n",
    "    p = [xx.transform.location.x, xx.transform.location.y]\n",
    "    pp.append(np.array(p))\n",
    "pp = np.array(pp)\n",
    "pp = pp.T"
   ]
  },
  {
   "cell_type": "code",
   "execution_count": null,
   "id": "95baf753",
   "metadata": {},
   "outputs": [],
   "source": [
    "plt.figure(figsize=(10, 10), dpi=80)\n",
    "plt.plot(pp[0,:], pp[1,:], '.k', alpha=1, ms=0.5)\n",
    "plt.plot(wp.transform.location.x, wp.transform.location.y, '.r', alpha=1, ms=10.5)"
   ]
  },
  {
   "cell_type": "code",
   "execution_count": null,
   "id": "f3366805",
   "metadata": {},
   "outputs": [],
   "source": [
    "front = [[wp]]\n",
    "root = wp\n",
    "for x in range(100):\n",
    "    front.append(front[-1][0].next(2.))"
   ]
  },
  {
   "cell_type": "code",
   "execution_count": null,
   "id": "acb222e5",
   "metadata": {},
   "outputs": [],
   "source": [
    "k = wp.next(20.)"
   ]
  },
  {
   "cell_type": "code",
   "execution_count": null,
   "id": "6b958470",
   "metadata": {},
   "outputs": [],
   "source": [
    "k[0]."
   ]
  },
  {
   "cell_type": "code",
   "execution_count": null,
   "id": "2ec00ed6",
   "metadata": {},
   "outputs": [],
   "source": [
    "vehicle_location = wp.transform.location\n",
    "front = []\n",
    "for xx in sl:\n",
    "    waypoint_location = xx.transform.location\n",
    "    if (waypoint_location - vehicle_location).x > 0:\n",
    "        front.append(xx)"
   ]
  },
  {
   "cell_type": "code",
   "execution_count": null,
   "id": "de9a7bb5",
   "metadata": {},
   "outputs": [],
   "source": [
    "pp = []\n",
    "for x in range(len(front)):\n",
    "    xx = front[x][0]\n",
    "    p = [xx.transform.location.x, xx.transform.location.y]\n",
    "    pp.append(np.array(p))\n",
    "pp = np.array(pp)\n",
    "pp = pp.T\n",
    "\n",
    "plt.figure(figsize=(10, 10), dpi=80)\n",
    "plt.plot(pp[0,:], pp[1,:], '.k', alpha=1, ms=0.5)\n",
    "plt.plot(wp.transform.location.x, wp.transform.location.y, '.r', alpha=1, ms=10.5)"
   ]
  },
  {
   "cell_type": "code",
   "execution_count": null,
   "id": "8a6f36e1",
   "metadata": {
    "scrolled": true
   },
   "outputs": [],
   "source": [
    "img, seg = sampler.sample()"
   ]
  },
  {
   "cell_type": "code",
   "execution_count": null,
   "id": "b5331c0d",
   "metadata": {},
   "outputs": [],
   "source": [
    "sampler.show_Example(random_spawn=True, segmentation=False)"
   ]
  },
  {
   "cell_type": "code",
   "execution_count": null,
   "id": "81d61870",
   "metadata": {},
   "outputs": [],
   "source": [
    "seg[0]"
   ]
  },
  {
   "cell_type": "code",
   "execution_count": null,
   "id": "395c8b3f",
   "metadata": {},
   "outputs": [],
   "source": [
    "mask = np.zeros((512,512,3))\n",
    "for x in range(len(seg)):\n",
    "    for y in range(len(seg[x])):\n",
    "        chunk = seg[x][y][0]\n",
    "        if chunk == 7:\n",
    "            mask[x][y][0] = 1\n",
    "            print(\"sgf\")\n",
    "        if chunk == 8:\n",
    "            mask[x][y][2] = 1"
   ]
  },
  {
   "cell_type": "code",
   "execution_count": null,
   "id": "41358d4a",
   "metadata": {},
   "outputs": [],
   "source": [
    "plt.imshow(img)"
   ]
  },
  {
   "cell_type": "code",
   "execution_count": null,
   "id": "9a889a15",
   "metadata": {},
   "outputs": [],
   "source": [
    "mask = mask.astype(\"float32\")"
   ]
  },
  {
   "cell_type": "code",
   "execution_count": null,
   "id": "4aabfa04",
   "metadata": {},
   "outputs": [],
   "source": [
    "plt.imshow(mask)"
   ]
  },
  {
   "cell_type": "code",
   "execution_count": null,
   "id": "8ec0f9a9",
   "metadata": {},
   "outputs": [],
   "source": [
    "mask[0]"
   ]
  },
  {
   "cell_type": "code",
   "execution_count": null,
   "id": "6a57e441",
   "metadata": {},
   "outputs": [],
   "source": [
    "images, seg = sampler.sample_Ride(world_model=\"Town01_Opt\", num_of_snaps=10, tick_rate=1, anomaly=True)"
   ]
  },
  {
   "cell_type": "code",
   "execution_count": null,
   "id": "cc1b4c09",
   "metadata": {
    "scrolled": true
   },
   "outputs": [],
   "source": [
    "for img in images:\n",
    "    plt.imshow(img)\n",
    "    plt.show()"
   ]
  },
  {
   "cell_type": "code",
   "execution_count": null,
   "id": "069bb1c6",
   "metadata": {},
   "outputs": [],
   "source": [
    "seg[9][250][250]"
   ]
  },
  {
   "cell_type": "code",
   "execution_count": null,
   "id": "a2c8fc5c",
   "metadata": {},
   "outputs": [],
   "source": [
    "plt.imshow(images[9])"
   ]
  },
  {
   "cell_type": "markdown",
   "id": "5a40dc88",
   "metadata": {},
   "source": [
    "# Loading Section"
   ]
  },
  {
   "cell_type": "code",
   "execution_count": null,
   "id": "be92767e",
   "metadata": {},
   "outputs": [],
   "source": [
    "images = Sampler.load_Images(\"/disk/vanishing_data/is789/anomaly_samples/paper_data_set/\", size=40)"
   ]
  },
  {
   "cell_type": "code",
   "execution_count": null,
   "id": "ea2673a7",
   "metadata": {},
   "outputs": [],
   "source": [
    "images = images[:,:,:,:3]"
   ]
  },
  {
   "cell_type": "code",
   "execution_count": null,
   "id": "030894cc",
   "metadata": {},
   "outputs": [],
   "source": [
    "images[0].shape"
   ]
  },
  {
   "cell_type": "code",
   "execution_count": null,
   "id": "e7bb9744",
   "metadata": {},
   "outputs": [],
   "source": [
    "paths = Sampler.get_image_paths(\"/disk/vanishing_data/is789/anomaly_samples/Samples_2022-11-03_20:07:27/\")"
   ]
  },
  {
   "cell_type": "code",
   "execution_count": null,
   "id": "18073629",
   "metadata": {
    "scrolled": true
   },
   "outputs": [],
   "source": [
    "for x in range(0,30):\n",
    "    plt.imshow(images[x])\n",
    "    plt.show()"
   ]
  },
  {
   "cell_type": "code",
   "execution_count": null,
   "id": "d4bcd437",
   "metadata": {
    "scrolled": true
   },
   "outputs": [],
   "source": [
    "Sampler.sample_from_Set(images)"
   ]
  },
  {
   "cell_type": "code",
   "execution_count": null,
   "id": "5f836346",
   "metadata": {},
   "outputs": [],
   "source": [
    "plt.imshow(images[4])"
   ]
  },
  {
   "cell_type": "code",
   "execution_count": null,
   "id": "ed8062cd",
   "metadata": {},
   "outputs": [],
   "source": [
    "def process_image(image):\n",
    "    \"Processes the image\"\n",
    "    image.resize((256, 256), Image.ANTIALIAS) # or whatever you are doing to the image\n",
    "    return image"
   ]
  },
  {
   "cell_type": "code",
   "execution_count": null,
   "id": "64db47c8",
   "metadata": {},
   "outputs": [],
   "source": [
    "xx = process_image(images[0])"
   ]
  },
  {
   "cell_type": "code",
   "execution_count": null,
   "id": "e09a53c3",
   "metadata": {},
   "outputs": [],
   "source": [
    "img = np.array(images[10])\n",
    "plt.imshow(img)"
   ]
  },
  {
   "cell_type": "code",
   "execution_count": null,
   "id": "b1418562",
   "metadata": {},
   "outputs": [],
   "source": [
    "recon = np.array(img)\n",
    "recon[250:310,200:350,:] = 0.0\n",
    "plt.imshow(recon)"
   ]
  },
  {
   "cell_type": "code",
   "execution_count": null,
   "id": "7b289e17",
   "metadata": {},
   "outputs": [],
   "source": [
    "def rgb2gray(rgb):\n",
    "    return np.dot(rgb[...,:3], [0.2989, 0.5870, 0.1140])"
   ]
  },
  {
   "cell_type": "code",
   "execution_count": null,
   "id": "c34bf058",
   "metadata": {},
   "outputs": [],
   "source": [
    "g1 = rgb2gray(img)\n",
    "g2 = rgb2gray(recon)\n",
    "g3 = abs(g1-g2)"
   ]
  },
  {
   "cell_type": "code",
   "execution_count": null,
   "id": "3dd4fdbe",
   "metadata": {},
   "outputs": [],
   "source": [
    "g3 = g3.astype(\"float32\") /255"
   ]
  },
  {
   "cell_type": "code",
   "execution_count": null,
   "id": "e1964ca6",
   "metadata": {},
   "outputs": [],
   "source": [
    "hm = np.zeros((512,512,3))\n",
    "hm = hm.astype(\"float32\")\n",
    "for x in range(len(hm)):\n",
    "    for y in range(len(hm[x])):\n",
    "        if g3[x][y] < 0.5:\n",
    "            hm[x][y][2] = 1\n",
    "            hm[x][y][1] = 2*g3[x][y]\n",
    "            hm[x][y][0] = 2*g3[x][y]\n",
    "        else:\n",
    "            hm[x][y][0] = 1\n",
    "            hm[x][y][1] = 1 - 2*(g3[x][y] - 0.5)\n",
    "            hm[x][y][2] = 1 - 2*(g3[x][y] - 0.5)\n",
    "#         hm[x][y][2] = 1 - 2*g3[x][y]\n",
    "#         if hm[x][y][2] < 0.:\n",
    "#             hm[x][y][2] = 0.\n",
    "#             hm[x][y][0] = 2*g3[x][y]"
   ]
  },
  {
   "cell_type": "code",
   "execution_count": null,
   "id": "9c5d82b7",
   "metadata": {},
   "outputs": [],
   "source": [
    "bar = np.zeros((450,50,3))\n",
    "ll = np.linspace(0,1,450)\n",
    "for y in range(len(bar)):\n",
    "    if ll[y] < 0.5:\n",
    "        bar[y,:,2] = 1\n",
    "        bar[y,:,1] = 2*ll[y]\n",
    "        bar[y,:,0] = 2*ll[y]\n",
    "    else:\n",
    "        bar[y,:,2] = 1 - 2*(ll[y] - 0.5)\n",
    "        bar[y,:,1] = 1 - 2*(ll[y] - 0.5)\n",
    "        bar[y,:,0] = 1\n",
    "        \n",
    "bar[bar > 0.99] = 0.99\n",
    "padd = np.zeros((31,50,3)) + 1.0\n",
    "bar = np.vstack((padd, bar, padd))"
   ]
  },
  {
   "cell_type": "code",
   "execution_count": null,
   "id": "cc7aba59",
   "metadata": {
    "scrolled": true
   },
   "outputs": [],
   "source": [
    "plt.imshow(bar)\n",
    "plt.axis(\"off\")"
   ]
  },
  {
   "cell_type": "code",
   "execution_count": null,
   "id": "9984b8cc",
   "metadata": {},
   "outputs": [],
   "source": [
    "padding = np.zeros((512,35,3)).astype(\"float32\")\n",
    "padding = padding + 1.0"
   ]
  },
  {
   "cell_type": "code",
   "execution_count": null,
   "id": "af2a4e13",
   "metadata": {},
   "outputs": [],
   "source": [
    "heatmap = np.hstack((hm,padding,bar))\n",
    "plt.imshow(heatmap)"
   ]
  },
  {
   "cell_type": "code",
   "execution_count": null,
   "id": "361f5007",
   "metadata": {},
   "outputs": [],
   "source": [
    "errorMatrix = (img - recon)\n",
    "errorAvg = np.sum(errorMatrix) / (errorMatrix.shape[0] * errorMatrix.shape[1] * errorMatrix.shape[2])\n",
    "errorAvg = int(errorAvg * 100000)/ 100000.0"
   ]
  },
  {
   "cell_type": "code",
   "execution_count": null,
   "id": "c933ffbe",
   "metadata": {},
   "outputs": [],
   "source": [
    "err = np.linspace(0,1,10)\n",
    "\n",
    "from matplotlib.pyplot import figure\n",
    "\n",
    "figure(figsize=(5.12, 5.12), dpi=100)\n",
    "plt.plot(err, lw=3)\n",
    "plt.xlim(-5, 140)\n",
    "plt.savefig(\"heatmap.png\")"
   ]
  },
  {
   "cell_type": "code",
   "execution_count": null,
   "id": "db405f64",
   "metadata": {},
   "outputs": [],
   "source": [
    "def test():\n",
    "    \n",
    "    fig = plt.figure(figsize=(5.12, 4.12), dpi=100) # this is imp for sizing\n",
    "    # plot\n",
    "    plt.plot(err, color=\"black\")\n",
    "    # get image as np.array\n",
    "    canvas = plt.gca().figure.canvas\n",
    "    canvas.draw()\n",
    "    data = np.frombuffer(canvas.tostring_rgb(), dtype=np.uint8)\n",
    "    image = data.reshape(canvas.get_width_height()[::-1] + (3,))\n",
    "    print(type(image[0][0][0]))\n",
    "    cv2.imwrite(\"test.png\", image)\n",
    "    return image"
   ]
  },
  {
   "cell_type": "code",
   "execution_count": null,
   "id": "a0db0a8b",
   "metadata": {},
   "outputs": [],
   "source": [
    "aa = []\n",
    "for x in range(1):\n",
    "    aa.append(test())"
   ]
  },
  {
   "cell_type": "code",
   "execution_count": null,
   "id": "dbef5841",
   "metadata": {},
   "outputs": [],
   "source": [
    "plt.imshow(aa[3])"
   ]
  },
  {
   "cell_type": "code",
   "execution_count": null,
   "id": "b5cdceb0",
   "metadata": {},
   "outputs": [],
   "source": [
    "fig.clear()"
   ]
  },
  {
   "cell_type": "code",
   "execution_count": null,
   "id": "f5ac2620",
   "metadata": {},
   "outputs": [],
   "source": [
    "image.shape"
   ]
  },
  {
   "cell_type": "code",
   "execution_count": null,
   "id": "d47a3a27",
   "metadata": {},
   "outputs": [],
   "source": [
    "import cv2\n",
    "kk = np.array(cv2.imread(\"heatmap.png\"))\n",
    "kk.shape"
   ]
  },
  {
   "cell_type": "code",
   "execution_count": null,
   "id": "696941dc",
   "metadata": {},
   "outputs": [],
   "source": [
    "import seaborn as sb\n",
    "figure(figsize=(5.12, 5.12), dpi=100)\n",
    "hm = sb.heatmap(g3, xticklabels=False, yticklabels=False)\n",
    "plt.savefig(\"heatmap.png\", bbox_inches='tight', pad_inches = 0)"
   ]
  },
  {
   "cell_type": "code",
   "execution_count": null,
   "id": "14c65d54",
   "metadata": {},
   "outputs": [],
   "source": [
    "kk = cv2.imread(\"heatmap.png\")\n",
    "plt.imshow(kk)"
   ]
  },
  {
   "cell_type": "code",
   "execution_count": null,
   "id": "18ef5b98",
   "metadata": {},
   "outputs": [],
   "source": [
    "kk.shape"
   ]
  },
  {
   "cell_type": "code",
   "execution_count": null,
   "id": "73cf86fb",
   "metadata": {},
   "outputs": [],
   "source": [
    "image_index = 1828\n",
    "storagePath = \"/disk/vanishing_data/is789/anomaly_samples/2500train/\""
   ]
  },
  {
   "cell_type": "code",
   "execution_count": null,
   "id": "63554a7f",
   "metadata": {},
   "outputs": [],
   "source": [
    "import cv2\n",
    "images = np.array(images)\n",
    "images = (images * 255).astype(\"int\")\n",
    "for k in range(len(images)):\n",
    "    cv2.imwrite(storagePath + f\"snap_{image_index}.png\", images[k]) \n",
    "    # plt.imsave(storagePath + f\"snap_{image_index}.png\",images[k], format=\"png\")\n",
    "    image_index = image_index + 1"
   ]
  },
  {
   "cell_type": "code",
   "execution_count": null,
   "id": "f3946669",
   "metadata": {},
   "outputs": [],
   "source": [
    "def convert_pic_to_row(pic):\n",
    "    output = []\n",
    "    for col in(pic):\n",
    "        temp = []\n",
    "        for x in range(len(col)):\n",
    "            row = col[x]\n",
    "            temp = np.concatenate((temp,row), axis=None)\n",
    "        output = np.concatenate((output,temp), axis=None)\n",
    "\n",
    "    result = np.array(output)\n",
    "    result = result.astype(int)\n",
    "    return result"
   ]
  },
  {
   "cell_type": "code",
   "execution_count": null,
   "id": "ff78910b",
   "metadata": {},
   "outputs": [],
   "source": [
    "import csv\n",
    "\n",
    "f = open(\"./test.csv\", 'w')\n",
    "\n",
    "with f:\n",
    "\n",
    "    writer = csv.writer(f)\n",
    "    \n",
    "    for image in images:\n",
    "        image = convert_pic_to_row(image)\n",
    "        writer.writerow(image)"
   ]
  },
  {
   "cell_type": "code",
   "execution_count": null,
   "id": "bb7db651",
   "metadata": {},
   "outputs": [],
   "source": [
    "test = convert_pic_to_row(images[0])\n",
    "test"
   ]
  },
  {
   "cell_type": "code",
   "execution_count": null,
   "id": "4e27d0d2",
   "metadata": {},
   "outputs": [],
   "source": [
    "import cv2 "
   ]
  },
  {
   "cell_type": "code",
   "execution_count": null,
   "id": "f2356425",
   "metadata": {},
   "outputs": [],
   "source": [
    "images = np.array(images)"
   ]
  },
  {
   "cell_type": "code",
   "execution_count": null,
   "id": "db3d37b2",
   "metadata": {},
   "outputs": [],
   "source": [
    "k = (images * 255).astype(\"int\")"
   ]
  },
  {
   "cell_type": "code",
   "execution_count": null,
   "id": "315127e7",
   "metadata": {},
   "outputs": [],
   "source": [
    "import PIL\n"
   ]
  },
  {
   "cell_type": "code",
   "execution_count": null,
   "id": "12709d08",
   "metadata": {},
   "outputs": [],
   "source": [
    "cv2.imwrite(\"test.png\", k[10]) "
   ]
  },
  {
   "cell_type": "code",
   "execution_count": null,
   "id": "7930b97d",
   "metadata": {},
   "outputs": [],
   "source": [
    "img = cv2.imread(\"test.png\")"
   ]
  },
  {
   "cell_type": "code",
   "execution_count": null,
   "id": "7f1fd9ad",
   "metadata": {},
   "outputs": [],
   "source": [
    "plt.imshow(img)"
   ]
  },
  {
   "cell_type": "code",
   "execution_count": null,
   "id": "86629d9b",
   "metadata": {},
   "outputs": [],
   "source": []
  },
  {
   "cell_type": "code",
   "execution_count": null,
   "id": "9b5489da",
   "metadata": {},
   "outputs": [],
   "source": [
    "\n",
    "def load_img_csv(path): \n",
    "    f = open(\"./test.csv\", 'r')\n",
    "\n",
    "    loaded_state = []\n",
    "    result = []\n",
    "\n",
    "\n",
    "    with f:\n",
    "\n",
    "        reader = csv.reader(f)\n",
    "\n",
    "        for row in reader:\n",
    "            temp = []\n",
    "            for e in row:\n",
    "                temp.append(e)\n",
    "            loaded_state.append(temp)\n",
    "\n",
    "    return loaded_state"
   ]
  },
  {
   "cell_type": "code",
   "execution_count": null,
   "id": "36d3fbd2",
   "metadata": {},
   "outputs": [],
   "source": [
    "kappa = load_img_csv(\"s\")"
   ]
  },
  {
   "cell_type": "code",
   "execution_count": null,
   "id": "b2b87df4",
   "metadata": {},
   "outputs": [],
   "source": [
    "matrix = np.eye(256, 256, dtype=np.uint8)*255\n",
    "matrix = np.concatenate((np.atleast_3d(matrix), np.zeros((256, 256, 2), dtype=np.uint8)), axis=2)"
   ]
  },
  {
   "cell_type": "code",
   "execution_count": null,
   "id": "b651c8a8",
   "metadata": {},
   "outputs": [],
   "source": [
    "fig = plt.figure()\n",
    "ax1 = fig.add_subplot(2,1,1)\n",
    "ax1.plot(range(10), 'b+')"
   ]
  },
  {
   "cell_type": "code",
   "execution_count": null,
   "id": "66bcd894",
   "metadata": {},
   "outputs": [],
   "source": [
    "from PIL import Image\n",
    "def fig2img(fig):\n",
    "    \"\"\"Convert a Matplotlib figure to a PIL Image and return it\"\"\"\n",
    "    import io\n",
    "    buf = io.BytesIO()\n",
    "    fig.savefig(buf)\n",
    "    buf.seek(0)\n",
    "    img = Image.open(buf)\n",
    "    return img"
   ]
  },
  {
   "cell_type": "code",
   "execution_count": null,
   "id": "a4c9f176",
   "metadata": {},
   "outputs": [],
   "source": [
    "img = fig2img(fig)"
   ]
  },
  {
   "cell_type": "code",
   "execution_count": null,
   "id": "a1a06713",
   "metadata": {},
   "outputs": [],
   "source": [
    "type(img)"
   ]
  },
  {
   "cell_type": "code",
   "execution_count": null,
   "id": "b211d40a",
   "metadata": {},
   "outputs": [],
   "source": [
    "image_open = Image.open(\"test.png\")\n",
    "type(image_open)"
   ]
  },
  {
   "cell_type": "code",
   "execution_count": null,
   "id": "a9547e79",
   "metadata": {},
   "outputs": [],
   "source": [
    "plt.imshow(img)"
   ]
  },
  {
   "cell_type": "code",
   "execution_count": null,
   "id": "f491a65a",
   "metadata": {},
   "outputs": [],
   "source": [
    "import cv2\n",
    "import PIL\n",
    "fig.savefig(\"test.png\")\n",
    "img = cv2.imread(\"test.png\")\n",
    "# img = PIL.Image.fromarray(img)"
   ]
  },
  {
   "cell_type": "code",
   "execution_count": null,
   "id": "148f8935",
   "metadata": {},
   "outputs": [],
   "source": [
    "img = PIL.Image.frombytes('RGB', \n",
    "fig.canvas.get_width_height(),fig.canvas.tostring_rgb())"
   ]
  },
  {
   "cell_type": "code",
   "execution_count": null,
   "id": "bd4627a7",
   "metadata": {},
   "outputs": [],
   "source": [
    "plt.imshow(img)"
   ]
  },
  {
   "cell_type": "code",
   "execution_count": null,
   "id": "83906fcf",
   "metadata": {},
   "outputs": [],
   "source": [
    "# Make a random plot...\n",
    "fig = plt.figure()\n",
    "fig.add_subplot(111)\n",
    "\n",
    "# If we haven't already shown or saved the plot, then we need to\n",
    "# draw the figure first...\n",
    "fig.canvas.draw()\n",
    "\n",
    "# Now we can save it to a numpy array.\n",
    "data = np.frombuffer(fig.canvas.tostring_rgb(), dtype=np.uint8)\n",
    "data = data.reshape(fig.canvas.get_width_height()[::-1] + (3,))"
   ]
  },
  {
   "cell_type": "code",
   "execution_count": null,
   "id": "dbb11ae6",
   "metadata": {},
   "outputs": [],
   "source": [
    "k = np.zeros((50,50,3))\n",
    "plt.imshow(k)"
   ]
  },
  {
   "cell_type": "code",
   "execution_count": null,
   "id": "74bab467",
   "metadata": {},
   "outputs": [],
   "source": [
    "fig = plt.figure()\n",
    "fig.canvas.draw()\n",
    "\n",
    "# Now we can save it to a numpy array.\n",
    "data = np.frombuffer(fig.canvas.tostring_rgb(), dtype=np.uint8)\n",
    "data = data.reshape(fig.canvas.get_width_height()[::-1] + (3,))"
   ]
  },
  {
   "cell_type": "code",
   "execution_count": null,
   "id": "f1fddc2b",
   "metadata": {},
   "outputs": [],
   "source": [
    "data.shape"
   ]
  },
  {
   "cell_type": "code",
   "execution_count": null,
   "id": "a04f3bc5",
   "metadata": {},
   "outputs": [],
   "source": [
    "k = np.zeros((3,2,2)).astype(\"float32\")"
   ]
  },
  {
   "cell_type": "code",
   "execution_count": null,
   "id": "ca8d174c",
   "metadata": {},
   "outputs": [],
   "source": [
    "k[0][k[0] == 0] = 1\n",
    "k[1][k[1] == 0] = 2\n",
    "k[2][k[2] == 0] = 3"
   ]
  },
  {
   "cell_type": "code",
   "execution_count": null,
   "id": "7ee61bf5",
   "metadata": {},
   "outputs": [],
   "source": [
    "k = np.zeros((512,512,3))"
   ]
  },
  {
   "cell_type": "code",
   "execution_count": null,
   "id": "9b432483",
   "metadata": {},
   "outputs": [],
   "source": [
    "k = np.transpose(k, (2,1,0))"
   ]
  },
  {
   "cell_type": "code",
   "execution_count": null,
   "id": "5a88495f",
   "metadata": {},
   "outputs": [],
   "source": [
    "k = np.array([1,2,3])\n",
    "z = k\n",
    "k = np.array([1,1,1])\n",
    "print(z)"
   ]
  },
  {
   "cell_type": "code",
   "execution_count": null,
   "id": "18bcfb78",
   "metadata": {},
   "outputs": [],
   "source": [
    "def get_median_set(values):\n",
    "    median = np.median(values)\n",
    "    values = list(values)\n",
    "    upperSplit = []\n",
    "    lowerSplit = []\n",
    "    for value in values:\n",
    "        if value > median:\n",
    "            upperSplit.append(value)\n",
    "        else:\n",
    "            lowerSplit.append(value)\n",
    "\n",
    "    return median, np.array(lowerSplit), np.array(upperSplit)"
   ]
  },
  {
   "cell_type": "code",
   "execution_count": null,
   "id": "48b230fb",
   "metadata": {},
   "outputs": [],
   "source": [
    "x = np.array([1,2,3,4,5,6,7,8,9])\n",
    "a, b, c = get_median_set(x)"
   ]
  },
  {
   "cell_type": "code",
   "execution_count": null,
   "id": "b17ac8fe",
   "metadata": {},
   "outputs": [],
   "source": [
    "c = np.array([0,1])\n",
    "len(c)"
   ]
  },
  {
   "cell_type": "code",
   "execution_count": null,
   "id": "edb4cf88",
   "metadata": {},
   "outputs": [],
   "source": [
    "k = torch.zeros(3, 5,5)\n",
    "k1 = torch.zeros(3, 2,5)\n",
    "o = torch.hstack((k,k1),)\n",
    "o.size()"
   ]
  },
  {
   "cell_type": "code",
   "execution_count": null,
   "id": "0e732a87",
   "metadata": {},
   "outputs": [],
   "source": [
    "x = torch.randn(1,5)\n",
    "\n",
    "x = torch.cat((x, x), 1)\n",
    "x.shape"
   ]
  },
  {
   "cell_type": "code",
   "execution_count": null,
   "id": "84d66ffb",
   "metadata": {},
   "outputs": [],
   "source": [
    "x = torch.randn(32,2, 3)\n",
    "x = x.view((32,2*3))\n",
    "x.shape"
   ]
  },
  {
   "cell_type": "code",
   "execution_count": null,
   "id": "f68f8de6",
   "metadata": {},
   "outputs": [],
   "source": [
    "x = torch.randn(1, 2, 3, 256, 256)\n",
    "x.size()"
   ]
  },
  {
   "cell_type": "code",
   "execution_count": null,
   "id": "26529749",
   "metadata": {},
   "outputs": [],
   "source": [
    "x = torch.randn(1, 2, 3, 256, 256)\n",
    "a = torch.tensor_split(x, 2, dim=1)\n",
    "a0 = torch.squeeze(a[0], 1)\n",
    "a1 = torch.squeeze(a[1], 1)\n",
    "a1.size()"
   ]
  },
  {
   "cell_type": "code",
   "execution_count": null,
   "id": "25283f0d",
   "metadata": {},
   "outputs": [],
   "source": [
    "## Check for duplicates\n",
    "\n",
    "images = Sampler.load_Images(\"/disk/vanishing_data/is789/anomaly_samples/paper_data_set/\", size=20000).astype(\"float32\") / 255\n",
    "# images = np.array([img, img, img, img])\n",
    "for x in range(len(images)):\n",
    "    img = images[x]\n",
    "    counter = 0\n",
    "    for y in range(len(images)):\n",
    "        if not x == y:\n",
    "            tmp = img - images[y]\n",
    "            if np.sum(tmp) == 0.:\n",
    "                counter += 1\n",
    "    print(f\"Found: {counter}\")"
   ]
  },
  {
   "cell_type": "code",
   "execution_count": null,
   "id": "9bd92676",
   "metadata": {},
   "outputs": [],
   "source": [
    "x = np.array([1,2,3])\n",
    "\n",
    "math.dist(x, x+2)\n"
   ]
  },
  {
   "cell_type": "code",
   "execution_count": null,
   "id": "a67ac115",
   "metadata": {},
   "outputs": [],
   "source": [
    "def plotToImage(figure):\n",
    "    canvas = figure.canvas\n",
    "    canvas.draw()\n",
    "    data = np.frombuffer(canvas.tostring_rgb(), dtype=np.uint8)\n",
    "    image = data.reshape(canvas.get_width_height()[::-1] + (3,))\n",
    "    return image"
   ]
  },
  {
   "cell_type": "code",
   "execution_count": null,
   "id": "0af40fb5",
   "metadata": {},
   "outputs": [],
   "source": [
    "ROTATION_DEGREE = 90\n",
    "def getDegree(root, point):\n",
    "    vec = point - root\n",
    "    length=np.linalg.norm(vec)\n",
    "    radian = 0\n",
    "    if vec[0] > 0 and vec[1] >= 0: radian=np.arctan(vec[1]/vec[0])\n",
    "    elif vec[0] > 0 and vec[1] < 0: radian=np.arctan(vec[1]/vec[0]) + 2*np.pi\n",
    "    elif vec[0] < 0: radian=np.arctan(vec[1]/vec[0]) + np.pi\n",
    "    elif vec[0] == 0 and vec[1] > 0: radian=np.pi / 2\n",
    "    elif vec[0] == 0 and vec[1] < 0: radian=3*np.pi / 2\n",
    "    # print(vec)\n",
    "    # print(radian)\n",
    "    # print(\"==\")\n",
    "    degree = (180/np.pi) * radian\n",
    "    diff = degree - ROTATION_DEGREE\n",
    "    result = ROTATION_DEGREE/(180/np.pi)\n",
    "    rotated_point = np.array([length*math.cos(result),length*math.sin(result)])\n",
    "    rotated_point = rotated_point + root\n",
    "    return rotated_point, diff\n",
    "\n",
    "def rotate(root, point, rotation):\n",
    "    vec = point - root\n",
    "    length=np.linalg.norm(vec)\n",
    "    radian = 0\n",
    "    if vec[0] > 0 and vec[1] >= 0: radian=np.arctan(vec[1]/vec[0])\n",
    "    elif vec[0] > 0 and vec[1] < 0: radian=np.arctan(vec[1]/vec[0]) + 2*np.pi\n",
    "    elif vec[0] < 0: radian=np.arctan(vec[1]/vec[0]) + np.pi\n",
    "    elif vec[0] == 0 and vec[1] > 0: radian=np.pi / 2\n",
    "    elif vec[0] == 0 and vec[1] < 0: radian=3*np.pi / 2\n",
    "    # print(vec)\n",
    "    # print(radian)\n",
    "    # print(\"==\")\n",
    "    degree = (180/np.pi) * radian\n",
    "    result = degree - rotation\n",
    "    result = result/(180/np.pi)\n",
    "    rotated_point = np.array([length*math.cos(result),length*math.sin(result)])\n",
    "    rotated_point = rotated_point + root\n",
    "    return rotated_point"
   ]
  },
  {
   "cell_type": "code",
   "execution_count": null,
   "id": "982dfe99",
   "metadata": {},
   "outputs": [],
   "source": [
    "def test(wp, p_start, p_end):\n",
    "    second_point, rotation = getDegree(p_start, wp[1])\n",
    "    wp_new = [p_start, second_point]\n",
    "    for point in wp[2:]:\n",
    "        rotatet_point = rotate(p_start, point, rotation)\n",
    "        wp_new.append(rotatet_point)\n",
    "\n",
    "    wp_new = np.array(wp_new)\n",
    "    p_end_new = wp_new[-1]\n",
    "    # print(wp_new)\n",
    "\n",
    "\n",
    "    p2 = np.array([235.44960022 ,130.40235901])\n",
    "    p3 = np.array([216.49787903, 138.22268677])\n",
    " \n",
    "    plt.style.use('dark_background')\n",
    "    fig = plt.figure(figsize=(2.56, 2.56), dpi=100)\n",
    "    plt.axis(\"off\")\n",
    "    plt.plot(wp[:,0], wp[:,1], color=\"white\", lw=3)\n",
    "    plt.plot(p_start[0], p_start[1], color=\"blue\", marker='<', markersize=12)\n",
    "    # plt.plot(p2[0], p2[1], color=\"blue\", marker='<', markersize=12)\n",
    "    # plt.plot(p3[0], p3[1], color=\"blue\", marker='<', markersize=12)\n",
    "#     k = np.array([[236.42085266, 129.47520447],\n",
    "# [236.42085266, 129.47520447],\n",
    "# [236.42085266, 129.47520447],\n",
    "# [236.42085266, 129.47520447],\n",
    "# [236.30673218, 129.54423523],\n",
    "# [235.85850525 ,129.90541077],\n",
    "# [235.16647339 ,130.42295837],\n",
    "# [234.35383606 ,130.81126404],\n",
    "# [233.4120636  ,131.14898682],\n",
    "# [232.48225403 ,131.38983154],\n",
    "# [231.36819458 ,131.78462219],\n",
    "# [230.06190491 ,132.23249817],\n",
    "# [228.95965576 ,132.61022949],\n",
    "# [227.92446899 ,133.05569458],\n",
    "# [227.06991577 ,133.54077148],\n",
    "# [226.082901 ,  134.05290222],\n",
    "# [224.86726379, 134.66255188],\n",
    "# [223.87690735, 135.16169739],\n",
    "# [222.30345154, 135.95426941],\n",
    "# [221.54006958, 136.33868408],\n",
    "# # [220.66619873, 136.77903748],\n",
    "# # [219.98606873, 137.12039185],\n",
    "# # [219.00170898, 137.6178894 ],\n",
    "# # [218.57128906 ,137.77253723]])\n",
    "# #     k[:,1] = k[:,1] * (-1)\n",
    "#     plt.plot(k[:,0], k[:,1], color=\"blue\", lw=3)\n",
    "#     plt.plot(p_end[0], p_end[1], color=\"red\", marker='o', markersize=12)\n",
    "    # plt.xticks(range(min(wp[:,0])-2, max(wp[:,0])+2))\n",
    "    # plt.yticks(range(min(wp[:,1])-2, max(wp[:,1])+2))\n",
    "    plt.show()\n",
    "\n",
    "    # p2_new = rotate(p_start, p2, rotation)\n",
    "    # p3_new = rotate(p_start, p3, rotation)\n",
    "    # print(p2_new)\n",
    "    # print(p3_new)\n",
    "    # k_new = [p_start]\n",
    "    # for point in k[1:]:\n",
    "    #     rotatet_point = rotate(p_start, point, rotation)\n",
    "    #     k_new.append(rotatet_point)\n",
    "    # k_new = np.array(k_new)\n",
    "    # fig = plt.figure(figsize=(2.56, 2.56), dpi=100)\n",
    "    plt.axis(\"off\")\n",
    "    plt.plot(wp_new[:,0], wp_new[:,1], color=\"white\", lw=3)\n",
    "    # plt.plot(k_new[:,0], k_new[:,1], color=\"blue\", lw=3)\n",
    "    plt.plot(p_start[0], p_start[1], color=\"blue\", marker='<', markersize=12)\n",
    "    # plt.plot(p2_new[0], p2_new[1], color=\"blue\", marker='<', markersize=12)\n",
    "    # plt.plot(p3_new[0], p3_new[1], color=\"blue\", marker='<', markersize=12)\n",
    "    plt.plot(p_end_new[0], p_end_new[1], color=\"red\", marker='o', markersize=12)\n",
    "    x_minimum = min(wp[:,0])\n",
    "    x_maximum = max(wp[:,0])\n",
    "    x_dist_min = abs(p_start[0] - x_minimum)\n",
    "    x_dist_max = abs(p_start[0] - x_maximum)\n",
    "    if x_dist_min < 1.:\n",
    "        x_minimum = p_start[0] - 1\n",
    "        x_dist_min = 1.\n",
    "    if x_dist_max < 1.:\n",
    "        x_maximum = p_start[0] + 1\n",
    "        x_dist_max = 1\n",
    "    if x_dist_max > x_dist_min:\n",
    "        x_end = x_maximum\n",
    "        x_start = p_start[0] - x_dist_max\n",
    "    else:\n",
    "        x_start = x_minimum\n",
    "        x_end = p_start[0] + x_dist_min\n",
    "        \n",
    "    # plt.xticks(range(int(min(wp_new[:,0]))-2, int(max(wp_new[:,0]))+2))\n",
    "    plt.xlim(x_start-0.5, x_end+0.5)\n",
    "    plt.yticks(range(int(min(wp_new[:,1])), int(max(wp_new[:,1])+1)))\n",
    "    # print(wp_new)"
   ]
  },
  {
   "cell_type": "code",
   "execution_count": null,
   "id": "87e4ce04",
   "metadata": {},
   "outputs": [],
   "source": [
    "# wp = np.array([[2.7,7],[2.2,6],[3,3],[2,2],[1,1],])\n",
    "wp = np.array([[1,0],[2,0],[3,0]])\n",
    "# wp = np.array([\n",
    "# [236.42089844, 129.47521973],\n",
    "#  [234.42089844, 129.47431946],\n",
    "#  [232.42089844, 129.47343445],\n",
    "#  [230.42089844, 129.47253418],\n",
    "#  [228.42088318, 129.47164917],\n",
    "#  [226.42088318, 129.4707489 ],\n",
    "#  [224.42088318 ,129.46986389],\n",
    "#  [222.42088318, 129.46896362],\n",
    "#  [220.42088318, 129.46806335],\n",
    "#  [218.42088318, 129.46717834],\n",
    "#  [216.42088318, 129.46627808],\n",
    "#  [214.42088318, 129.46539307],\n",
    "#  [212.42088318, 129.4644928 ],\n",
    "#  [210.42088318, 129.46360779],\n",
    "#  [206.42088318, 129.46182251],\n",
    "#  [204.42088318 ,129.46092224],\n",
    "#  [202.42089844, 129.46002197],\n",
    "#  [200.42089844 ,129.45913696],\n",
    "#  [198.42089844 ,129.45823669],\n",
    "#  [196.42089844 ,129.45735168],\n",
    "#  [194.42089844 ,129.45645142],\n",
    "#  [192.42089844 ,129.45556641],\n",
    "#  [190.42089844 ,129.45466614],\n",
    "#  [188.42089844, 129.45376587],\n",
    "#  [186.42089844 ,129.45288086],\n",
    "#  [184.42089844 ,129.45198059],\n",
    "#  [182.42089844, 129.45109558],\n",
    "#  [180.42089844 ,129.45019531],\n",
    "#  [178.42089844 ,129.4493103 ],\n",
    "#  [176.42089844 ,129.44841003]\n",
    "#  ])\n",
    "# wp[:,1] = wp[:,1] * (-1)\n",
    "p_start = np.array(wp[0])\n",
    "p_end = np.array(wp[-1])\n",
    "\n",
    "test(wp, p_start, p_end)"
   ]
  },
  {
   "cell_type": "code",
   "execution_count": null,
   "id": "571ca45f",
   "metadata": {},
   "outputs": [],
   "source": [
    "x = np.array([ 1.21542013 ,40.67977906])\n",
    "\n",
    "np.arctan(x[1]/x[0])"
   ]
  },
  {
   "cell_type": "code",
   "execution_count": null,
   "id": "45a5cd42",
   "metadata": {},
   "outputs": [],
   "source": [
    "fig"
   ]
  },
  {
   "cell_type": "code",
   "execution_count": null,
   "id": "cd3ecadc",
   "metadata": {},
   "outputs": [],
   "source": [
    "img = plotToImage(fig).astype(\"float32\") / 255\n",
    "# img = (img * 255).astype(\"int\")\n",
    "# print(img)\n",
    "plt.imshow(img)\n",
    "cv2.imwrite(\"test.png\", img)"
   ]
  },
  {
   "cell_type": "code",
   "execution_count": null,
   "id": "e34bcfb0",
   "metadata": {},
   "outputs": [],
   "source": [
    "k = plt.imread(\"py_scripts/test1.png\") * 255\n",
    "plt.imshow(k)"
   ]
  },
  {
   "cell_type": "code",
   "execution_count": null,
   "id": "085d3ac6",
   "metadata": {},
   "outputs": [],
   "source": [
    "o = np.array([1,1])\n",
    "p = np.array([1,-1])\n",
    "\n",
    "np.multiply(o,p)"
   ]
  },
  {
   "cell_type": "code",
   "execution_count": null,
   "id": "2ed703f8",
   "metadata": {},
   "outputs": [],
   "source": [
    "x = plt.imread(\"scenario_sets/Set_2023-01-13_11:17/snapshots/snap_3.png\")\n",
    "y = plt.imread(\"scenario_sets/Set_2023-01-13_11:17/snapshots/snap_12.png\")"
   ]
  },
  {
   "cell_type": "code",
   "execution_count": null,
   "id": "5afe327e",
   "metadata": {},
   "outputs": [],
   "source": [
    "o = np.hstack((x, y))\n",
    "plt.imshow(o)\n",
    "plt.imsave(\"test.png\",o)"
   ]
  },
  {
   "cell_type": "code",
   "execution_count": null,
   "id": "22e96008",
   "metadata": {},
   "outputs": [],
   "source": [
    "x = \"aj\"\n",
    "\n",
    "if x: print(\"hey\")"
   ]
  }
 ],
 "metadata": {
  "kernelspec": {
   "display_name": "Anomaly",
   "language": "python",
   "name": "anomaly"
  },
  "language_info": {
   "codemirror_mode": {
    "name": "ipython",
    "version": 3
   },
   "file_extension": ".py",
   "mimetype": "text/x-python",
   "name": "python",
   "nbconvert_exporter": "python",
   "pygments_lexer": "ipython3",
   "version": "3.8.10"
  }
 },
 "nbformat": 4,
 "nbformat_minor": 5
}
